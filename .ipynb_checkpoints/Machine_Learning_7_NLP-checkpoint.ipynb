version https://git-lfs.github.com/spec/v1
oid sha256:10b3c27ec70a21ab86ae1019990439d9345c4d60b110f539aa77f8d389aa42f8
size 147170
